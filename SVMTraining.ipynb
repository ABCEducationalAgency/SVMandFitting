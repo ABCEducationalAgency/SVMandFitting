{
 "cells": [
  {
   "cell_type": "code",
   "execution_count": null,
   "id": "c23eabeb",
   "metadata": {},
   "outputs": [],
   "source": [
    "%pip install scikit-learn\n",
    "%pip install joblib\n",
    "%pip install numpy\n",
    "%pip install scikit-image"
   ]
  },
  {
   "cell_type": "code",
   "execution_count": null,
   "id": "04be6be0",
   "metadata": {},
   "outputs": [],
   "source": [
    "import os\n",
    "import cv2\n",
    "import numpy as np\n",
    "from skimage.feature import hog\n",
    "\n",
    "# Settings\n",
    "image_size = (32, 32)\n",
    "data_dir = './datasets/ProcessedFruitDataset/'\n",
    "\n",
    "data, labels, class_names = [], [], []\n",
    "\n",
    "# loading images from our folders manually\n",
    "for label, class_name in enumerate(sorted(os.listdir(data_dir))):\n",
    "    class_path = os.path.join(data_dir, class_name)\n",
    "    if os.path.isdir(class_path):\n",
    "        class_names.append(class_name)\n",
    "        for filename in os.listdir(class_path):\n",
    "            if filename.lower().endswith(('.jpg', '.png', '.jpeg')):\n",
    "                img_path = os.path.join(class_path, filename)\n",
    "                img = cv2.imread(img_path, cv2.IMREAD_GRAYSCALE)\n",
    "                img = cv2.resize(img, image_size)\n",
    "\n",
    "                features = hog(img, \n",
    "                orientations=9, \n",
    "                pixels_per_cell=(8, 8),\n",
    "                cells_per_block=(2, 2), \n",
    "                block_norm='L2-Hys')\n",
    "                \n",
    "                data.append(features)\n",
    "                labels.append(label)\n",
    "\n",
    "# turning our arrays into numpy arrays for performance\n",
    "data = np.array(data)\n",
    "labels = np.array(labels)"
   ]
  },
  {
   "cell_type": "code",
   "execution_count": null,
   "id": "baa7bddf",
   "metadata": {},
   "outputs": [],
   "source": [
    "from sklearn import svm\n",
    "from sklearn.model_selection import train_test_split\n",
    "\n",
    "# Split data\n",
    "TrainData, TestData, TrainLabels, TestLabels = train_test_split(data, labels, test_size=0.2, random_state=42)"
   ]
  },
  {
   "cell_type": "code",
   "execution_count": null,
   "id": "63bb3595",
   "metadata": {},
   "outputs": [],
   "source": [
    "# Train SVM\n",
    "clf = svm.SVC(kernel='linear')\n",
    "clf.fit(TrainData, TrainLabels)"
   ]
  },
  {
   "cell_type": "code",
   "execution_count": null,
   "id": "48447703",
   "metadata": {},
   "outputs": [],
   "source": [
    "from sklearn.metrics import accuracy_score\n",
    "\n",
    "# Test accuracy\n",
    "TestPredictions = clf.predict(TestData)\n",
    "print(\"Accuracy:\", accuracy_score(TestLabels, TestPredictions))"
   ]
  },
  {
   "cell_type": "code",
   "execution_count": null,
   "id": "cf0ed416",
   "metadata": {},
   "outputs": [],
   "source": [
    "import joblib\n",
    "# Save model and classes\n",
    "joblib.dump(clf, './models/svm_model.joblib')\n",
    "joblib.dump(class_names, './models/class_names.joblib')"
   ]
  }
 ],
 "metadata": {
  "kernelspec": {
   "display_name": "Python 3",
   "language": "python",
   "name": "python3"
  },
  "language_info": {
   "codemirror_mode": {
    "name": "ipython",
    "version": 3
   },
   "file_extension": ".py",
   "mimetype": "text/x-python",
   "name": "python",
   "nbconvert_exporter": "python",
   "pygments_lexer": "ipython3",
   "version": "3.9.9"
  }
 },
 "nbformat": 4,
 "nbformat_minor": 5
}
